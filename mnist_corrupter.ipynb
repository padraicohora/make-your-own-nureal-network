{
 "cells": [
  {
   "cell_type": "markdown",
   "id": "33a118b8",
   "metadata": {},
   "source": [
    "TODO: import mnist-c dataset and run throug neural network fil created "
   ]
  },
  {
   "cell_type": "markdown",
   "id": "2bbb6b6a",
   "metadata": {},
   "source": []
  }
 ],
 "metadata": {
  "language_info": {
   "name": "python"
  }
 },
 "nbformat": 4,
 "nbformat_minor": 5
}
