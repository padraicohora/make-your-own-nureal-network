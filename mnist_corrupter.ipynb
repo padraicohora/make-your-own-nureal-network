{
 "cells": [
  {
   "cell_type": "markdown",
   "id": "33a118b8",
   "metadata": {},
   "source": [
    "TODO: import mnist-c dataset and run throug neural network fil created "
   ]
  },
  {
   "cell_type": "code",
   "execution_count": 13,
   "id": "027657ad",
   "metadata": {},
   "outputs": [],
   "source": [
    "import numpy\n",
    "\n",
    "# Import the NeuralNetwork class from your new file\n",
    "from neural_network import NeuralNetwork, train_network, test_network, run_experiment, plot_performance\n",
    "import matplotlib.pyplot\n",
    "%matplotlib inline"
   ]
  },
  {
   "cell_type": "code",
   "execution_count": 2,
   "id": "0555b4f6",
   "metadata": {},
   "outputs": [],
   "source": [
    "# number of input, hidden and output nodes\n",
    "input_nodes = 784\n",
    "hidden_nodes = 100\n",
    "output_nodes = 10\n",
    "\n",
    "# best learning rate is 0.2\n",
    "learning_rate = 0.2\n",
    "\n",
    "#  create instance of neural network\n",
    "n = NeuralNetwork(input_nodes,hidden_nodes,output_nodes, learning_rate)"
   ]
  },
  {
   "cell_type": "markdown",
   "id": "e2c6a169",
   "metadata": {},
   "source": [
    "<h3>Mnist Corrupted</h3>\n",
    "\n",
    "<ul>\n",
    "    <li>Brightness</li>\n",
    "    <li></li>\n",
    "    <li></li>\n",
    "    <li></li>\n",
    "    <li></li>\n",
    "    <li></li>\n",
    "    <li></li>\n",
    "    <li></li>\n",
    "    <li></li>\n",
    "</ul>"
   ]
  },
  {
   "cell_type": "code",
   "execution_count": 3,
   "id": "6d390dcb",
   "metadata": {},
   "outputs": [],
   "source": [
    "# --- MNIST-C Data Loading ---\n",
    "\n",
    "# Base path to your MNIST-C dataset (adjust as necessary)\n",
    "mnist_c_base_path = \"data/mnist_c/\" # Assuming 'data' is a sibling to your notebook or a subfolder\n",
    "\n",
    "# List of corruption types you might want to iterate through\n",
    "corruption_types = [\n",
    "    \"brightness\", \n",
    "    \"canny_edges\", \n",
    "    \"dotted_line\", \n",
    "    \"fog\", \n",
    "    \"glass_blur\",\n",
    "    \"identity\",\n",
    "    \"impulse_noise\", \n",
    "    \"motion_blur\", \n",
    "    \"rotate\",\n",
    "    \"scale\", \n",
    "    \"shear\", \n",
    "    \"shot_noise\", \n",
    "    \"spatter\",\n",
    "    \"stripe\",\n",
    "    \"translate\", \n",
    "    \"zigzag\"\n",
    "]\n",
    "\n",
    "\n"
   ]
  },
  {
   "cell_type": "code",
   "execution_count": 4,
   "id": "2904e034",
   "metadata": {},
   "outputs": [],
   "source": [
    "# Let's load 'brightness' as an example for now\n",
    "current_corruption_type = \"brightness\" # You can loop through corruption_types later\n",
    "\n",
    "# Define paths for the training and test images/labels for the chosen corruption type\n",
    "# MNIST-C typically has train_images.npy, train_labels.npy, test_images.npy, test_labels.npy\n",
    "# within each corruption type folder.\n",
    "\n",
    "# Full paths for the brightness corruption\n",
    "train_images_path = f\"{mnist_c_base_path}{current_corruption_type}/train_images.npy\"\n",
    "train_labels_path = f\"{mnist_c_base_path}{current_corruption_type}/train_labels.npy\"\n",
    "test_images_path = f\"{mnist_c_base_path}{current_corruption_type}/test_images.npy\"\n",
    "test_labels_path = f\"{mnist_c_base_path}{current_corruption_type}/test_labels.npy\""
   ]
  },
  {
   "cell_type": "markdown",
   "id": "d7a5ef5f",
   "metadata": {},
   "source": [
    "<h5>Brightness</h5>"
   ]
  },
  {
   "cell_type": "code",
   "execution_count": 5,
   "id": "143ceac6",
   "metadata": {},
   "outputs": [
    {
     "name": "stdout",
     "output_type": "stream",
     "text": [
      "Successfully loaded brightness data.\n",
      "Train images shape: (60000, 28, 28, 1)\n",
      "Train labels shape: (60000,)\n",
      "Test images shape: (10000, 28, 28, 1)\n",
      "Test labels shape: (10000,)\n"
     ]
    }
   ],
   "source": [
    "# Load training data\n",
    "train_images_corrupted = numpy.load(train_images_path)\n",
    "train_labels_corrupted = numpy.load(train_labels_path)\n",
    "\n",
    "# Load test data\n",
    "test_images_corrupted = numpy.load(test_images_path)\n",
    "test_labels_corrupted = numpy.load(test_labels_path)\n",
    "\n",
    "print(f\"Successfully loaded {current_corruption_type} data.\")\n",
    "print(f\"Train images shape: {train_images_corrupted.shape}\") # Should be (60000, 28, 28)\n",
    "print(f\"Train labels shape: {train_labels_corrupted.shape}\") # Should be (60000,)\n",
    "print(f\"Test images shape: {test_images_corrupted.shape}\")   # Should be (10000, 28, 28)\n",
    "print(f\"Test labels shape: {test_labels_corrupted.shape}\")   # Should be (10000,)\n"
   ]
  },
  {
   "cell_type": "code",
   "execution_count": 15,
   "id": "eccb73d2",
   "metadata": {},
   "outputs": [
    {
     "data": {
      "image/png": "[encoded data removed]",
      "text/plain": [
       "<Figure size 1000x200 with 10 Axes>"
      ]
     },
     "metadata": {},
     "output_type": "display_data"
    }
   ],
   "source": [
    "\n",
    "matplotlib.pyplot.figure(figsize=(10, 2))\n",
    "for i in range(10):\n",
    "    matplotlib.pyplot.subplot(1, 10, i + 1)\n",
    "    matplotlib.pyplot.imshow(train_images_corrupted[i], cmap='gray')\n",
    "    matplotlib.pyplot.axis('off')\n",
    "matplotlib.pyplot.suptitle('MNIST-C: Gaussian Noise')\n",
    "matplotlib.pyplot.show()\n"
   ]
  },
  {
   "cell_type": "code",
   "execution_count": 16,
   "id": "0967ebe7",
   "metadata": {},
   "outputs": [
    {
     "name": "stdout",
     "output_type": "stream",
     "text": [
      "5\n",
      "0\n",
      "4\n",
      "1\n",
      "9\n",
      "2\n",
      "1\n",
      "3\n",
      "1\n",
      "4\n"
     ]
    }
   ],
   "source": [
    "for i in range(10): \n",
    "    print(train_labels_corrupted[i])"
   ]
  }
 ],
 "metadata": {
  "kernelspec": {
   "display_name": "make-your-own-nn",
   "language": "python",
   "name": "python3"
  },
  "language_info": {
   "codemirror_mode": {
    "name": "ipython",
    "version": 3
   },
   "file_extension": ".py",
   "mimetype": "text/x-python",
   "name": "python",
   "nbconvert_exporter": "python",
   "pygments_lexer": "ipython3",
   "version": "3.12.11"
  }
 },
 "nbformat": 4,
 "nbformat_minor": 5
}
